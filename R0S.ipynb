{
 "cells": [
  {
   "cell_type": "code",
   "execution_count": null,
   "id": "9e27c298",
   "metadata": {
    "vscode": {
     "languageId": "plaintext"
    }
   },
   "outputs": [],
   "source": [
    "## Reading from bag file\n",
    "\n",
    "from rosbags.rosbag2 import Reader\n",
    "from rosbags.typesys import Stores, get_typestore\n",
    "\n",
    "bag_file_path = \"/home/evenezer/WS_2025_HBRS/AMR_ws25/Assignment_1/bag\"\n",
    "\n",
    "# YOUR CODE HERE\n",
    "# raise NotImplementedError()\n",
    "\n",
    "no_of_messages_to_read = 5\n",
    "scan_list = list()\n",
    "\n",
    "#Uniform Resource Identifier (uri) should be assigned to path of the folder in which .db3 file is saved\n",
    "storage_options = StorageOptions(uri=bag_file_path, storage_id=\"sqlite3\") \n",
    "\n",
    "# Common Data Representation (cdr) is the binary serialisation format used in ROS2, so read and write format is set to \"cdr\"\n",
    "converter_options = ConverterOptions(\n",
    "        input_serialization_format=\"cdr\", output_serialization_format=\"cdr\")\n",
    "\n",
    "# To read messages in sequence, setting reader to SequentialReader\n",
    "reader = SequentialReader()\n",
    "reader.open(storage_options, converter_options)\n",
    "\n",
    "# Set desired scan_topic_name name (string)\n",
    "scan_topic_name = '/scan'\n",
    "count=0\n",
    "\n",
    "# Example to read topic, its data and the time at which it was published with the data is provided below.\n",
    "# Here the first set of scan data points are stored.\n",
    "while reader.has_next():\n",
    "    \n",
    "    if count < no_of_messages_to_read:\n",
    "        # the timestamp 't' has units of nanoseconds. If you want to get data at particular time, please change code accordingly\n",
    "        (topic, data, t) = reader.read_next()\n",
    "        \n",
    "        if topic == scan_topic_name:\n",
    "            count += 1\n",
    "            # deserialize_message is used to decode the message. It takes the message(data) and its type as input\n",
    "            scan_data = deserialize_message(data, LaserScan())\n",
    "            scan_list.append(scan_data)\n",
    "    else:\n",
    "        break\n",
    "# Interesting Excercise: Please feel free to move around robot to get it inside the room in simulation. Using above \n",
    "# example, try to get the scan data when the robot is inside the room.\n",
    "scan_list\n",
    "\n",
    "# Interesting exercise (optional): Move the robot around to get it inside the room in the simulation. Using the above \n",
    "# example, try to get the scan data when the robot is inside the room."
   ]
  }
 ],
 "metadata": {
  "language_info": {
   "name": "python"
  }
 },
 "nbformat": 4,
 "nbformat_minor": 5
}
