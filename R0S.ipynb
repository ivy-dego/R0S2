{
 "cells": [
  {
   "cell_type": "code",
   "execution_count": 8,
   "id": "83dcd879",
   "metadata": {},
   "outputs": [
    {
     "ename": "SyntaxError",
     "evalue": "invalid syntax (3299651973.py, line 1)",
     "output_type": "error",
     "traceback": [
      "\u001b[0;36m  Cell \u001b[0;32mIn[8], line 1\u001b[0;36m\u001b[0m\n\u001b[0;31m    pip install pexpect\u001b[0m\n\u001b[0m        ^\u001b[0m\n\u001b[0;31mSyntaxError\u001b[0m\u001b[0;31m:\u001b[0m invalid syntax\n"
     ]
    }
   ],
   "source": [
    "pip install pexpect\n",
    "pip install rosbags"
   ]
  },
  {
   "cell_type": "code",
   "execution_count": null,
   "id": "f030f621",
   "metadata": {},
   "outputs": [],
   "source": []
  },
  {
   "cell_type": "markdown",
   "id": "da906a63",
   "metadata": {},
   "source": [
    "Lets collect the scan data closest to a user-defined timestamp value from the robot. For this, you need to extract data from the bag file."
   ]
  },
  {
   "cell_type": "code",
   "execution_count": null,
   "id": "ec08938d",
   "metadata": {},
   "outputs": [],
   "source": []
  },
  {
   "cell_type": "code",
   "execution_count": null,
   "id": "9e27c298",
   "metadata": {},
   "outputs": [
    {
     "ename": "ModuleNotFoundError",
     "evalue": "No module named 'rosbags'",
     "output_type": "error",
     "traceback": [
      "\u001b[0;31m---------------------------------------------------------------------------\u001b[0m",
      "\u001b[0;31mModuleNotFoundError\u001b[0m                       Traceback (most recent call last)",
      "Cell \u001b[0;32mIn[2], line 3\u001b[0m\n\u001b[1;32m      1\u001b[0m \u001b[38;5;66;03m## Reading from bag file\u001b[39;00m\n\u001b[0;32m----> 3\u001b[0m \u001b[38;5;28;01mfrom\u001b[39;00m\u001b[38;5;250m \u001b[39m\u001b[38;5;21;01mrosbags\u001b[39;00m\u001b[38;5;21;01m.\u001b[39;00m\u001b[38;5;21;01mrosbag2\u001b[39;00m\u001b[38;5;250m \u001b[39m\u001b[38;5;28;01mimport\u001b[39;00m Reader\n\u001b[1;32m      4\u001b[0m \u001b[38;5;28;01mfrom\u001b[39;00m\u001b[38;5;250m \u001b[39m\u001b[38;5;21;01mrosbags\u001b[39;00m\u001b[38;5;21;01m.\u001b[39;00m\u001b[38;5;21;01mtypesys\u001b[39;00m\u001b[38;5;250m \u001b[39m\u001b[38;5;28;01mimport\u001b[39;00m Stores, get_typestore\n\u001b[1;32m      6\u001b[0m bag_file_path \u001b[38;5;241m=\u001b[39m \u001b[38;5;124m\"\u001b[39m\u001b[38;5;124m/home/evenezer/WS_2025_HBRS/AMR_ws25/Assignment_1/bag\u001b[39m\u001b[38;5;124m\"\u001b[39m\n",
      "\u001b[0;31mModuleNotFoundError\u001b[0m: No module named 'rosbags'"
     ]
    }
   ],
   "source": [
    "## Reading from bag file\n",
    "\n",
    "from rosbags.rosbag2 import Reader\n",
    "from rosbags.typesys import Stores, get_typestore\n",
    "\n",
    "bag_file_path = \"rosbags/bags/ros2bag_test_1.db3\"\n",
    "\n",
    "\n",
    "\n",
    "no_of_messages_to_read = 5\n",
    "scan_list = list()\n",
    "\n",
    "#Uniform Resource Identifier (uri) should be assigned to path of the folder in which .db3 file is saved\n",
    "storage_options = StorageOptions(uri=bag_file_path, storage_id=\"sqlite3\") \n",
    "\n",
    "# Common Data Representation (cdr) is the binary serialisation format used in ROS2, so read and write format is set to \"cdr\"\n",
    "converter_options = ConverterOptions(\n",
    "        input_serialization_format=\"cdr\", output_serialization_format=\"cdr\")\n",
    "\n",
    "# To read messages in sequence, setting reader to SequentialReader\n",
    "reader = SequentialReader()\n",
    "reader.open(storage_options, converter_options)\n",
    "\n",
    "# Set desired scan_topic_name name (string)\n",
    "scan_topic_name = '/scan'\n",
    "count=0\n",
    "\n",
    "# Example to read topic, its data and the time at which it was published with the data is provided below.\n",
    "# Here the first set of scan data points are stored.\n",
    "while reader.has_next():\n",
    "    \n",
    "    if count < no_of_messages_to_read:\n",
    "        # the timestamp 't' has units of nanoseconds. If you want to get data at particular time, please change code accordingly\n",
    "        (topic, data, t) = reader.read_next()\n",
    "        \n",
    "        if topic == scan_topic_name:\n",
    "            count += 1\n",
    "            # deserialize_message is used to decode the message. It takes the message(data) and its type as input\n",
    "            scan_data = deserialize_message(data, LaserScan())\n",
    "            scan_list.append(scan_data)\n",
    "    else:\n",
    "        break\n",
    "# Interesting Excercise: Please feel free to move around robot to get it inside the room in simulation. Using above \n",
    "# example, try to get the scan data when the robot is inside the room.\n",
    "scan_list\n",
    "\n",
    "# Interesting exercise (optional): Move the robot around to get it inside the room in the simulation. Using the above \n",
    "# example, try to get the scan data when the robot is inside the room."
   ]
  },
  {
   "cell_type": "code",
   "execution_count": 9,
   "id": "5da31df5",
   "metadata": {},
   "outputs": [
    {
     "name": "stdout",
     "output_type": "stream",
     "text": [
      "idea\n"
     ]
    }
   ],
   "source": [
    "print('idea')"
   ]
  },
  {
   "cell_type": "code",
   "execution_count": null,
   "id": "ee8f8a22",
   "metadata": {},
   "outputs": [],
   "source": []
  },
  {
   "cell_type": "code",
   "execution_count": null,
   "id": "5f338257",
   "metadata": {},
   "outputs": [],
   "source": []
  },
  {
   "cell_type": "markdown",
   "id": "47449b29",
   "metadata": {},
   "source": [
    "### You have to convert the scan data from polar coordinates to cartesian coordinates for better interpretation and integration with other functionalities. For this, you need to get the minimum and maximum angular range of the laser scanner and also the resolution of angles (which gives you the number of data points in a single scan).\n",
    "\n",
    "#### Note: we need to figure out how can you get these details from scan_data. Also, it might interest you to know with respect to which frame the data was published."
   ]
  },
  {
   "cell_type": "code",
   "execution_count": null,
   "id": "fb935542",
   "metadata": {},
   "outputs": [],
   "source": [
    "## Helper function to convert scan data from polar to Cartesian coordinates\n",
    "def np_polar2cart(np_polar: np.ndarray):\n",
    "    \"\"\"\n",
    "\n",
    "    Keyword arguments:\n",
    "    np_polar: np.ndarray -- A 2D numpy array, where each row represents the distance to an obstacle at a \n",
    "                            corresponding angle in radians. Thus, the number of rows will be equal to\n",
    "                            the number of scan data points\n",
    "\n",
    "    Return:\n",
    "    np_cart: np.ndarray -- A 2D numpy array, where each row consists of X and Y Cartesian coordinates\n",
    "                           of an obstacle\n",
    "    \"\"\"\n",
    "    \n",
    "    # YOUR CODE HERE\n",
    "    cartesian_data = list()\n",
    "    for ro,theta in np_polar:\n",
    "        if not isinf(ro):  # Ignore infinite values\n",
    "            x = ro * cos(theta)\n",
    "            y = ro * sin(theta)\n",
    "            cartesian_data.append(np.array([x, y]))\n",
    "    \n",
    "    return np.array(cartesian_data)\n",
    "    \n",
    "cartesianList = list()\n",
    "\n",
    "\n",
    "for scan_data in scan_list:\n",
    "    angles = np.arange(scan_data.angle_min, scan_data.angle_max, scan_data.angle_increment)\n",
    "    polar = list(zip(scan_data.ranges, angles))\n",
    "\n",
    "    cartesian = np_polar2cart(polar)\n",
    "    cartesianList.append(cartesian)\n",
    "    # Printing only the valid mesurements\n",
    "cartesianList   \n"
   ]
  },
  {
   "cell_type": "markdown",
   "id": "3284e4ce",
   "metadata": {},
   "source": [
    "Plot the points using the Cartesian coordinates from your above implementation.\n",
    "\n",
    "Note: our plot will have a corresponding title, axis labels, grid, and legend."
   ]
  },
  {
   "cell_type": "code",
   "execution_count": null,
   "id": "e83c203f",
   "metadata": {},
   "outputs": [],
   "source": [
    "import matplotlib.pyplot as plt\n",
    "\n",
    "# X and Y coordinates fetching from cartesian_data\n",
    "for cartesian in cartesianList:\n",
    "    #X and Y Coordinated fetching from base link\n",
    "    base_line_x = cartesian[:,0]\n",
    "    base_link_y = cartesian[:,1]\n",
    "    plt.scatter(base_line_x,base_link_y, label ='Laser measurement')\n",
    "\n",
    "#plotting the points\n",
    "plt.title('Cartesian laser point representation expressed in the laser Reference Frame')\n",
    "#Adding Title, axex names and legend and grid\n",
    "plt.xlabel('Cartesian X axis')\n",
    "plt.ylabel('Cartesian Y axis')\n",
    "plt.grid(True)\n",
    "plt.legend()\n",
    " \n",
    "plt.show()"
   ]
  },
  {
   "cell_type": "markdown",
   "id": "54f8ebf8",
   "metadata": {},
   "source": [
    "Our next task is to transform the scan data with respect to base_link and then plot the resulting points. Part of this task is to figure out the topic under which this transformation details are being published, and then use that information to perform this transformation.\n",
    "\n",
    "Tip: In order to get the Euler angle rotation (i.e. the (roll, pitch, yaw) angles) from the transformation matrix, the method tf_transformations.euler_from_quaternion can be used."
   ]
  },
  {
   "cell_type": "code",
   "execution_count": null,
   "id": "1b4ae690",
   "metadata": {},
   "outputs": [],
   "source": [
    "# Set the desired tf_topic_name name\n",
    "tf_topic_name: str = \"/tf_static\"\n",
    "\n",
    "### PLEASE EXPLAIN THE REASON TO SELECT tf_topic_name HERE ###\n",
    "\n",
    "# YOUR CODE HERE\n",
    "\n",
    "def getHomogeneous(trans, theta):\n",
    "    t =np.array(trans)\n",
    "    t =np.reshape(t, (t.shape[0], 1))\n",
    "\n",
    "    RZ = np.array([[np.cos(theta), -np.sin(theta), 0. ],\n",
    "                    [np.sin(theta), np.cos(theta), 0.],\n",
    "                    [0., 0., 1.]])\n",
    "    \n",
    "    TZ =np.hstack((RZ, t))\n",
    "    HTX =np.vstack((TZ, np.array([0, 0, 0, 1])))\n",
    "\n",
    "    return HTX\n",
    "\n",
    "reader.open(storage_options, converter_options)\n",
    "\n",
    "\n",
    "\n",
    "# Set the child and parent frames between which the transformation is desired. \n",
    "child_frame: str = \"base_laser_front_link\"\n",
    "parent_frame: str = \"base_link\"\n",
    "\n",
    "# Hints: \n",
    "# * ROS messages have corresponding Python classes, so the message fields can be accessed as normal\n",
    "# object field. For instance, to get linear `x' in the transformation stored \n",
    "# in tf_data_child_to_parent, `tf_data_child_to_parent.transform.linear.x' can be used.\n",
    "# * You can use the same procedure as erlier to extract the transformation data from the rosbag reader.\n",
    "\n",
    "## Create a transformation matrix using the (roll, pitch, yaw) rotation and linear (x,y,z) relation\n",
    "## between the child_frame and parent_frame, and decide how to transform the above data points to\n",
    "## the base_link frame of reference. Transform the Cartesian points of scan data to the base_link frame.\n",
    "\n",
    "\n",
    "\n",
    "while reader.has_next():\n",
    "    \n",
    "    if count < 1:\n",
    "        (topic, data, t) = reader.read_next()\n",
    "        if topic == tf_topic_name:\n",
    "            tf_msg = deserialize_message(data, TFMessage())\n",
    "            for transform in tf_msg.transforms:\n",
    "                if transform.child_frame_id == child_frame and transform.header.frame_id == parent_frame:\n",
    "                    # As it is static transform, store the transform data, irrespective of the time\n",
    "                    tf_data_child_to_parent = transform\n",
    "\n",
    "                    quaternion = [tf_data_child_to_parent.transform.rotation.x,\n",
    "                                  tf_data_child_to_parent.transform.rotation.y,\n",
    "                                  tf_data_child_to_parent.transform.rotation.z,\n",
    "                                  tf_data_child_to_parent.transform.rotation.w]\n",
    "                    translation = [tf_data_child_to_parent.transform.translation.x,\n",
    "                                   tf_data_child_to_parent.transform.translation.y,\n",
    "                                   tf_data_child_to_parent.transform.translation.z]\n",
    "                    \n",
    "                    ret = tf_transformations.euler_from_quaternion(quaternion)\n",
    "                    T_H_C = getHomogeneous(translation,ret[2])\n",
    "\n",
    "\n",
    "cartesian_B_list = list()\n",
    "\n",
    "for cartesian in cartesianList:\n",
    "    cartesian_array = np.array(cartesian)\n",
    "    homogeneous_cartesian = np.column_stack((cartesian_array, np.zeros(len(cartesian_array))))\n",
    "    homogeneous_cartesian = np.column_stack((homogeneous_cartesian, np.ones(len(homogeneous_cartesian))))\n",
    "\n",
    "\n",
    "    cartesian_B = np.dot(T_H_C, homogeneous_cartesian.T).T\n",
    "    cartesian_B = cartesian_B[:,0:2]\n",
    "    cartesian_B_list.append(cartesian_B)\n",
    "cartesian_B_list"
   ]
  },
  {
   "cell_type": "markdown",
   "id": "790bce5f",
   "metadata": {},
   "source": [
    "Plot the points using the Cartesian coordinates from our above implementation after transformation to base_link.\n",
    "\n",
    "Note: Please make sure that our plot has a corresponding title, axis labels, grid, and legend."
   ]
  },
  {
   "cell_type": "code",
   "execution_count": null,
   "id": "cad32949",
   "metadata": {},
   "outputs": [],
   "source": [
    "import matplotlib.pyplot as plt\n",
    " \n",
    "#X and Y Coordinated fetching from base link\n",
    "for cartesian_B in cartesian_B_list:\n",
    "    base_line_x = cartesian_B[:,0]\n",
    "    base_link_y = cartesian_B[:,1]\n",
    "    plt.scatter(base_line_x,base_link_y, label ='Laser measurement')\n",
    "\n",
    "\n",
    "#plotting the points\n",
    "plt.title('Cartesian laser point representation expressed in the Base Reference Frame')\n",
    "#Adding Title, axex names and legend and grid\n",
    "plt.xlabel('Cartesian X axis')\n",
    "plt.ylabel('Cartesian Y axis')\n",
    "plt.grid(True)\n",
    "plt.legend()\n",
    " \n",
    "plt.show()"
   ]
  },
  {
   "cell_type": "markdown",
   "id": "f8574a70",
   "metadata": {},
   "source": [
    "Discussions:\n",
    "How does this visualisation compare to the previous visualisation of the same data? Is this what we expected?"
   ]
  },
  {
   "cell_type": "markdown",
   "id": "18d212af",
   "metadata": {},
   "source": [
    "We observed that there is 0.5m shift in the positive x-axis, which is expected when transforming the laser data from the laser link to the robots base link. Meaning, the laser scanner is mounted 0.5m forward of the robot base link. When the transform is correctly applied, the points shifted accordingly to reflect their true location relative to robots center which is required for mapping and localization."
   ]
  },
  {
   "cell_type": "code",
   "execution_count": null,
   "id": "53648540",
   "metadata": {},
   "outputs": [],
   "source": []
  }
 ],
 "metadata": {
  "kernelspec": {
   "display_name": ".venv",
   "language": "python",
   "name": "python3"
  },
  "language_info": {
   "codemirror_mode": {
    "name": "ipython",
    "version": 3
   },
   "file_extension": ".py",
   "mimetype": "text/x-python",
   "name": "python",
   "nbconvert_exporter": "python",
   "pygments_lexer": "ipython3",
   "version": "3.10.12"
  }
 },
 "nbformat": 4,
 "nbformat_minor": 5
}
